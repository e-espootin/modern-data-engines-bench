{
 "cells": [
  {
   "cell_type": "markdown",
   "metadata": {},
   "source": [
    "## run simple smallpond test"
   ]
  },
  {
   "cell_type": "code",
   "execution_count": 1,
   "metadata": {},
   "outputs": [],
   "source": [
    "# pip install git+https://github.com/definite-app/smallpond.git"
   ]
  },
  {
   "cell_type": "code",
   "execution_count": 2,
   "metadata": {},
   "outputs": [],
   "source": [
    "import smallpond\n",
    "from setuptools._distutils import spawn"
   ]
  },
  {
   "cell_type": "code",
   "execution_count": 3,
   "metadata": {},
   "outputs": [
    {
     "name": "stdout",
     "output_type": "stream",
     "text": [
      "['Optional', 'PackageNotFoundError', '__builtins__', '__cached__', '__doc__', '__file__', '__loader__', '__name__', '__package__', '__path__', '__spec__', '__version__', 'init', 'version']\n"
     ]
    }
   ],
   "source": [
    "print(dir(smallpond))"
   ]
  },
  {
   "cell_type": "code",
   "execution_count": null,
   "metadata": {},
   "outputs": [
    {
     "name": "stderr",
     "output_type": "stream",
     "text": [
      "\u001b[32m2025-03-08 10:05:33.561\u001b[0m | \u001b[33m\u001b[1mWARNING \u001b[0m | \u001b[36msmallpond.platform.base\u001b[0m:\u001b[36mdefault_data_root\u001b[0m:\u001b[36m77\u001b[0m - \u001b[33m\u001b[1mdata root is not set, using default: /Users/ebrahimespootin/.smallpond/data\u001b[0m\n"
     ]
    },
    {
     "name": "stdout",
     "output_type": "stream",
     "text": [
      "[2025-03-08 10:05:33.571937] [Ebrahim--MacBook-Pro.local] [MainProcess(78147)] [task.py:414] INFO initialized logging to file: /Users/ebrahimespootin/.smallpond/data/2025-03-08-10-05-33.176d4272-c7f0-46ad-80e9-8633d47b8ab3/log/Ebrahim--MacBook-Pro.local.log\n",
      "[2025-03-08 10:05:33.575148] [Ebrahim--MacBook-Pro.local] [MainProcess(78147)] [task.py:426] INFO initialized user logging to file: /Users/ebrahimespootin/.smallpond/data/2025-03-08-10-05-33.176d4272-c7f0-46ad-80e9-8633d47b8ab3/log/Ebrahim--MacBook-Pro.local-user.log\n",
      "[2025-03-08 10:05:33.575553] [Ebrahim--MacBook-Pro.local] [MainProcess(78147)] [task.py:371] INFO set environment variable 'LD_LIBRARY_PATH': '/Users/ebrahimespootin/dev/publish/smallpond_spark_compare/comparison_project/.venv/lib:'\n",
      "[2025-03-08 10:05:33.575781] [Ebrahim--MacBook-Pro.local] [MainProcess(78147)] [task.py:373] INFO RANK='' LD_LIBRARY_PATH='/Users/ebrahimespootin/dev/publish/smallpond_spark_compare/comparison_project/.venv/lib:' LD_PRELOAD='' MALLOC_CONF=''\n",
      "[2025-03-08 10:05:33.575835] [Ebrahim--MacBook-Pro.local] [MainProcess(78147)] [task.py:333] INFO smallpond version: 0.15.0\n",
      "[2025-03-08 10:05:33.576109] [Ebrahim--MacBook-Pro.local] [MainProcess(78147)] [task.py:334] INFO runtime context:\n",
      "{'bind_numa_node': None,\n",
      " 'completed_task_dir': '/Users/ebrahimespootin/.smallpond/data/2025-03-08-10-05-33.176d4272-c7f0-46ad-80e9-8633d47b8ab3/staging/completed_tasks',\n",
      " 'config_root': '/Users/ebrahimespootin/.smallpond/data/2025-03-08-10-05-33.176d4272-c7f0-46ad-80e9-8633d47b8ab3/config',\n",
      " 'console_log_level': 'INFO',\n",
      " 'current_task': None,\n",
      " 'data_root': '/Users/ebrahimespootin/.smallpond/data',\n",
      " 'disable_log_rotation': False,\n",
      " 'enable_diagnostic_metrics': False,\n",
      " 'enable_profiling': False,\n",
      " 'enforce_memory_limit': False,\n",
      " 'env_overrides': {},\n",
      " 'fault_inject_prob': 0.0,\n",
      " 'file_log_level': 'DEBUG',\n",
      " 'final_output_path': None,\n",
      " 'job_id': JobId('176d4272-c7f0-46ad-80e9-8633d47b8ab3'),\n",
      " 'job_root': '/Users/ebrahimespootin/.smallpond/data/2025-03-08-10-05-33.176d4272-c7f0-46ad-80e9-8633d47b8ab3',\n",
      " 'job_time': datetime.datetime(2025, 3, 8, 10, 5, 33, 561002),\n",
      " 'log_root': '/Users/ebrahimespootin/.smallpond/data/2025-03-08-10-05-33.176d4272-c7f0-46ad-80e9-8633d47b8ab3/log',\n",
      " 'max_num_missed_probes': 6,\n",
      " 'max_usable_cpu_count': 1024,\n",
      " 'max_usable_gpu_count': 1024,\n",
      " 'max_usable_memory_size': 17592186044416,\n",
      " 'next_task_id': 0,\n",
      " 'num_executors': 0,\n",
      " 'numa_node_id': None,\n",
      " 'output_root': '/Users/ebrahimespootin/.smallpond/data/2025-03-08-10-05-33.176d4272-c7f0-46ad-80e9-8633d47b8ab3/output',\n",
      " 'queue_root': '/Users/ebrahimespootin/.smallpond/data/2025-03-08-10-05-33.176d4272-c7f0-46ad-80e9-8633d47b8ab3/queue',\n",
      " 'random_seed': 136527548802345626367583476908305621122827315655112386153426884810631546742964390734929821342420550088251177981069133598546784721457352415130579832981187963818933809035547711602881686663861680519552594451280221939795005296999434269187673169993425676222288954563921767722280981243815002373529362225254793873808,\n",
      " 'remove_empty_parquet': False,\n",
      " 'secs_executor_probe_interval': 30,\n",
      " 'secs_wq_poll_interval': 0.5,\n",
      " 'shared_log_root': None,\n",
      " 'skip_task_with_empty_input': False,\n",
      " 'staging_root': '/Users/ebrahimespootin/.smallpond/data/2025-03-08-10-05-33.176d4272-c7f0-46ad-80e9-8633d47b8ab3/staging',\n",
      " 'started_task_dir': '/Users/ebrahimespootin/.smallpond/data/2025-03-08-10-05-33.176d4272-c7f0-46ad-80e9-8633d47b8ab3/staging/started_tasks',\n",
      " 'temp_root': '/Users/ebrahimespootin/.smallpond/data/2025-03-08-10-05-33.176d4272-c7f0-46ad-80e9-8633d47b8ab3/temp'}\n",
      "[2025-03-08 10:05:33.581004] [Ebrahim--MacBook-Pro.local] [MainProcess(78147)] [task.py:335] INFO local GPUs: []\n",
      "[2025-03-08 10:05:33.581329] [Ebrahim--MacBook-Pro.local] [MainProcess(78147)] [session.py:55] INFO using platform: Platform\n",
      "[2025-03-08 10:05:33.581395] [Ebrahim--MacBook-Pro.local] [MainProcess(78147)] [session.py:56] INFO command-line arguments: /Users/ebrahimespootin/dev/publish/smallpond_spark_compare/comparison_project/.venv/lib/python3.12/site-packages/ipykernel_launcher.py --f=/Users/ebrahimespootin/Library/Jupyter/runtime/kernel-v32bbc499cbadb74f58a90d900588140b3e245cbe1.json\n",
      "[2025-03-08 10:05:33.581458] [Ebrahim--MacBook-Pro.local] [MainProcess(78147)] [session.py:57] INFO session config: Config(job_id='176d4272-c7f0-46ad-80e9-8633d47b8ab3', job_time=datetime.datetime(2025, 3, 8, 10, 5, 33, 561002), data_root='/Users/ebrahimespootin/.smallpond/data', num_executors=0, ray_address=None, bind_numa_node=None, memory_allocator='system', remove_output_root=True)\n"
     ]
    },
    {
     "name": "stderr",
     "output_type": "stream",
     "text": [
      "2025-03-08 10:05:34,400\tINFO worker.py:1832 -- Started a local Ray instance. View the dashboard at \u001b[1m\u001b[32mhttp://127.0.0.1:8008 \u001b[39m\u001b[22m\n"
     ]
    },
    {
     "name": "stdout",
     "output_type": "stream",
     "text": [
      "[2025-03-08 10:05:34.888159] [Ebrahim--MacBook-Pro.local] [MainProcess(78147)] [session.py:115] INFO started ray cluster at 127.0.0.1:65071\n",
      "[2025-03-08 10:05:34.888967] [Ebrahim--MacBook-Pro.local] [MainProcess(78147)] [session.py:200] WARNING prometheus is not found\n",
      "[2025-03-08 10:05:34.889079] [Ebrahim--MacBook-Pro.local] [MainProcess(78147)] [session.py:220] WARNING grafana is not found\n",
      "[2025-03-08 10:05:34.896499] [Ebrahim--MacBook-Pro.local] [MainProcess(78147)] [dataframe.py:311] INFO optimizing\n",
      "DataSinkNode-000004: input_deps=(SqlEngineNode-000003,), output_name=None, tasks[0]=[]...[], resource_limit=1CPUs/0GPUs/0GB, output_path=/Users/ebrahimespootin/dev/publish/smallpond_spark_compare/comparison_project/src/smallpond/output, type=link_or_copy, file= /var/folders/3k/12j5wdv541sd5s_pmq43c5tw0000gn/T/ipykernel_78147/2433680212.py:12\n",
      "  SqlEngineNode-000003: input_deps=(HashPartitionNode-000002,), output_name=None, tasks[0]=[]...[], resource_limit=1CPUs/0GPUs/0GB, sql_query=<SELECT ticker, min(price), max(price) FROM {0} GROUP BY ticker...>, udfs=[], batched_processing=False, file= /var/folders/3k/12j5wdv541sd5s_pmq43c5tw0000gn/T/ipykernel_78147/2433680212.py:9\n",
      "    HashPartitionNode-000002: input_deps=(DataSourceNode-000001,), output_name=None, tasks[0]=[]...[], resource_limit=1CPUs/0GPUs/0GB, npartitions=3, dimension=__data_partition__, nested=False, hash_columns=['ticker'], data_partition_column=__data_partition__, engine_type=duckdb, hive_partitioning=False, file= /var/folders/3k/12j5wdv541sd5s_pmq43c5tw0000gn/T/ipykernel_78147/2433680212.py:8\n",
      "      DataSourceNode-000001: input_deps=[], output_name=None, tasks[0]=[]...[], resource_limit=1CPUs/0GPUs/0GB, dataset=<ParquetDataSet: paths[1]=['/Users/ebrahimespootin/dev/publish/smallpond_spark_compare/comparison_project/data/prices.parquet']...', root_dir=/Users/ebrahimespootin/dev/publish/smallpond_spark_compare/comparison_project/src/smallpond, columns=None, generated_columns=[]>, file= /var/folders/3k/12j5wdv541sd5s_pmq43c5tw0000gn/T/ipykernel_78147/2433680212.py:5\n",
      "[2025-03-08 10:05:34.897030] [Ebrahim--MacBook-Pro.local] [MainProcess(78147)] [dataframe.py:315] INFO optimized\n",
      "DataSinkNode-000004: input_deps=[SqlEngineNode-000003], output_name=None, tasks[0]=[]...[], resource_limit=1CPUs/0GPUs/0GB, output_path=/Users/ebrahimespootin/dev/publish/smallpond_spark_compare/comparison_project/src/smallpond/output, type=link_or_copy, file= /var/folders/3k/12j5wdv541sd5s_pmq43c5tw0000gn/T/ipykernel_78147/2433680212.py:12\n",
      "  SqlEngineNode-000003: input_deps=[HashPartitionNode-000002], output_name=None, tasks[0]=[]...[], resource_limit=1CPUs/0GPUs/0GB, sql_query=<SELECT ticker, min(price), max(price) FROM {0} GROUP BY ticker...>, udfs=[], batched_processing=False, file= /var/folders/3k/12j5wdv541sd5s_pmq43c5tw0000gn/T/ipykernel_78147/2433680212.py:9\n",
      "    HashPartitionNode-000002: input_deps=[DataSourceNode-000001], output_name=None, tasks[0]=[]...[], resource_limit=1CPUs/0GPUs/0GB, npartitions=3, dimension=__data_partition__, nested=False, hash_columns=['ticker'], data_partition_column=__data_partition__, engine_type=duckdb, hive_partitioning=False, file= /var/folders/3k/12j5wdv541sd5s_pmq43c5tw0000gn/T/ipykernel_78147/2433680212.py:8\n",
      "      DataSourceNode-000001: input_deps=[], output_name=None, tasks[0]=[]...[], resource_limit=1CPUs/0GPUs/0GB, dataset=<ParquetDataSet: paths[1]=['/Users/ebrahimespootin/dev/publish/smallpond_spark_compare/comparison_project/data/prices.parquet']...', root_dir=/Users/ebrahimespootin/dev/publish/smallpond_spark_compare/comparison_project/src/smallpond, columns=None, generated_columns=[]>, file= /var/folders/3k/12j5wdv541sd5s_pmq43c5tw0000gn/T/ipykernel_78147/2433680212.py:5\n",
      "[2025-03-08 10:05:35.702294] [Ebrahim--MacBook-Pro.local] [MainProcess(78147)] [dataframe.py:311] INFO optimizing\n",
      "SqlEngineNode-000003: input_deps=(HashPartitionNode-000002,), output_name=None, tasks[3]=['SqlEngineTask-000007']...['SqlEngineTask-000009'], resource_limit=1CPUs/0GPUs/0GB, sql_query=<SELECT ticker, min(price), max(price) FROM {0} GROUP BY ticker...>, udfs=[], batched_processing=False, file= /var/folders/3k/12j5wdv541sd5s_pmq43c5tw0000gn/T/ipykernel_78147/2433680212.py:9\n",
      "  HashPartitionNode-000002: input_deps=(DataSourceNode-000001,), output_name=None, tasks[5]=['MergeDataSetsTask-000002']...['PartitionConsumerTask-000006'], resource_limit=1CPUs/0GPUs/0GB, npartitions=3, dimension=__data_partition__, nested=False, hash_columns=['ticker'], data_partition_column=__data_partition__, engine_type=duckdb, hive_partitioning=False, file= /var/folders/3k/12j5wdv541sd5s_pmq43c5tw0000gn/T/ipykernel_78147/2433680212.py:8\n",
      "    DataSourceNode-000001: input_deps=[], output_name=None, tasks[1]=['DataSourceTask-000001']...['DataSourceTask-000001'], resource_limit=1CPUs/0GPUs/0GB, dataset=<ParquetDataSet: paths[1]=['/Users/ebrahimespootin/dev/publish/smallpond_spark_compare/comparison_project/data/prices.parquet']...', root_dir=/Users/ebrahimespootin/dev/publish/smallpond_spark_compare/comparison_project/src/smallpond, columns=None, generated_columns=[]>, file= /var/folders/3k/12j5wdv541sd5s_pmq43c5tw0000gn/T/ipykernel_78147/2433680212.py:5\n",
      "[2025-03-08 10:05:35.702727] [Ebrahim--MacBook-Pro.local] [MainProcess(78147)] [dataframe.py:315] INFO optimized\n",
      "SqlEngineNode-000003: input_deps=[HashPartitionNode-000002], output_name=None, tasks[3]=['SqlEngineTask-000007']...['SqlEngineTask-000009'], resource_limit=1CPUs/0GPUs/0GB, sql_query=<SELECT ticker, min(price), max(price) FROM {0} GROUP BY ticker...>, udfs=[], batched_processing=False, file= /var/folders/3k/12j5wdv541sd5s_pmq43c5tw0000gn/T/ipykernel_78147/2433680212.py:9\n",
      "  HashPartitionNode-000002: input_deps=[DataSourceNode-000001], output_name=None, tasks[5]=['MergeDataSetsTask-000002']...['PartitionConsumerTask-000006'], resource_limit=1CPUs/0GPUs/0GB, npartitions=3, dimension=__data_partition__, nested=False, hash_columns=['ticker'], data_partition_column=__data_partition__, engine_type=duckdb, hive_partitioning=False, file= /var/folders/3k/12j5wdv541sd5s_pmq43c5tw0000gn/T/ipykernel_78147/2433680212.py:8\n",
      "    DataSourceNode-000001: input_deps=[], output_name=None, tasks[1]=['DataSourceTask-000001']...['DataSourceTask-000001'], resource_limit=1CPUs/0GPUs/0GB, dataset=<ParquetDataSet: paths[1]=['/Users/ebrahimespootin/dev/publish/smallpond_spark_compare/comparison_project/data/prices.parquet']...', root_dir=/Users/ebrahimespootin/dev/publish/smallpond_spark_compare/comparison_project/src/smallpond, columns=None, generated_columns=[]>, file= /var/folders/3k/12j5wdv541sd5s_pmq43c5tw0000gn/T/ipykernel_78147/2433680212.py:5\n",
      "  ticker  min(price)  max(price)\n",
      "0   GOOG           1           3\n",
      "0   APPL           1           3\n",
      "1   MSFT           1           3\n"
     ]
    },
    {
     "name": "stdout",
     "output_type": "stream",
     "text": [
      "[2025-03-08 10:06:34.899434] [Ebrahim--MacBook-Pro.local] [MainProcess(78147)] [session.py:264] WARNING graphviz is not installed, skipping graph dump\n",
      "[2025-03-08 10:06:35.913285] [Ebrahim--MacBook-Pro.local] [MainProcess(78147)] [session.py:315] INFO progress: 15/15 tasks (100.0%)\n",
      "[2025-03-08 10:07:35.932859] [Ebrahim--MacBook-Pro.local] [MainProcess(78147)] [session.py:264] WARNING graphviz is not installed, skipping graph dump\n",
      "[2025-03-08 10:07:36.947241] [Ebrahim--MacBook-Pro.local] [MainProcess(78147)] [session.py:315] INFO progress: 15/15 tasks (100.0%)\n",
      "[2025-03-08 10:08:36.963548] [Ebrahim--MacBook-Pro.local] [MainProcess(78147)] [session.py:264] WARNING graphviz is not installed, skipping graph dump\n",
      "[2025-03-08 10:08:37.972474] [Ebrahim--MacBook-Pro.local] [MainProcess(78147)] [session.py:315] INFO progress: 15/15 tasks (100.0%)\n",
      "[2025-03-08 10:09:37.983362] [Ebrahim--MacBook-Pro.local] [MainProcess(78147)] [session.py:264] WARNING graphviz is not installed, skipping graph dump\n",
      "[2025-03-08 10:09:38.992073] [Ebrahim--MacBook-Pro.local] [MainProcess(78147)] [session.py:315] INFO progress: 15/15 tasks (100.0%)\n",
      "[2025-03-08 10:10:39.007878] [Ebrahim--MacBook-Pro.local] [MainProcess(78147)] [session.py:264] WARNING graphviz is not installed, skipping graph dump\n",
      "[2025-03-08 10:10:40.018719] [Ebrahim--MacBook-Pro.local] [MainProcess(78147)] [session.py:315] INFO progress: 15/15 tasks (100.0%)\n",
      "[2025-03-08 10:11:40.031939] [Ebrahim--MacBook-Pro.local] [MainProcess(78147)] [session.py:264] WARNING graphviz is not installed, skipping graph dump\n",
      "[2025-03-08 10:11:41.046908] [Ebrahim--MacBook-Pro.local] [MainProcess(78147)] [session.py:315] INFO progress: 15/15 tasks (100.0%)\n",
      "[2025-03-08 10:12:41.063306] [Ebrahim--MacBook-Pro.local] [MainProcess(78147)] [session.py:264] WARNING graphviz is not installed, skipping graph dump\n",
      "[2025-03-08 10:12:42.071775] [Ebrahim--MacBook-Pro.local] [MainProcess(78147)] [session.py:315] INFO progress: 15/15 tasks (100.0%)\n",
      "[2025-03-08 10:13:42.085681] [Ebrahim--MacBook-Pro.local] [MainProcess(78147)] [session.py:264] WARNING graphviz is not installed, skipping graph dump\n",
      "[2025-03-08 10:13:43.094959] [Ebrahim--MacBook-Pro.local] [MainProcess(78147)] [session.py:315] INFO progress: 15/15 tasks (100.0%)\n"
     ]
    }
   ],
   "source": [
    "# Initialize session\n",
    "sp = smallpond.init()\n",
    "\n",
    "# Load data\n",
    "df = sp.read_parquet(\"./data/prices.parquet\")\n",
    "\n",
    "# Process data\n",
    "df = df.repartition(3, hash_by=\"ticker\")\n",
    "df = sp.partial_sql(\"SELECT ticker, min(price), max(price) FROM {0} GROUP BY ticker\", df)\n",
    "\n",
    "# Save results\n",
    "df.write_parquet(\"output/\")\n",
    "# Show results\n",
    "print(df.to_pandas())"
   ]
  }
 ],
 "metadata": {
  "kernelspec": {
   "display_name": ".venv",
   "language": "python",
   "name": "python3"
  },
  "language_info": {
   "codemirror_mode": {
    "name": "ipython",
    "version": 3
   },
   "file_extension": ".py",
   "mimetype": "text/x-python",
   "name": "python",
   "nbconvert_exporter": "python",
   "pygments_lexer": "ipython3",
   "version": "3.12.8"
  }
 },
 "nbformat": 4,
 "nbformat_minor": 2
}
